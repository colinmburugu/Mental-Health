{
 "cells": [
  {
   "cell_type": "code",
   "execution_count": 1,
   "metadata": {},
   "outputs": [],
   "source": [
    "import numpy as np \n",
    "import pandas as pd\n",
    "import matplotlib.pyplot as plt\n",
    "import seaborn as sns\n"
   ]
  },
  {
   "cell_type": "code",
   "execution_count": 2,
   "metadata": {},
   "outputs": [
    {
     "data": {
      "text/html": [
       "<div>\n",
       "<style scoped>\n",
       "    .dataframe tbody tr th:only-of-type {\n",
       "        vertical-align: middle;\n",
       "    }\n",
       "\n",
       "    .dataframe tbody tr th {\n",
       "        vertical-align: top;\n",
       "    }\n",
       "\n",
       "    .dataframe thead th {\n",
       "        text-align: right;\n",
       "    }\n",
       "</style>\n",
       "<table border=\"1\" class=\"dataframe\">\n",
       "  <thead>\n",
       "    <tr style=\"text-align: right;\">\n",
       "      <th></th>\n",
       "      <th>Timestamp</th>\n",
       "      <th>Age</th>\n",
       "      <th>Gender</th>\n",
       "      <th>Country</th>\n",
       "      <th>state</th>\n",
       "      <th>self_employed</th>\n",
       "      <th>family_history</th>\n",
       "      <th>treatment</th>\n",
       "      <th>work_interfere</th>\n",
       "      <th>no_employees</th>\n",
       "      <th>...</th>\n",
       "      <th>leave</th>\n",
       "      <th>mental_health_consequence</th>\n",
       "      <th>phys_health_consequence</th>\n",
       "      <th>coworkers</th>\n",
       "      <th>supervisor</th>\n",
       "      <th>mental_health_interview</th>\n",
       "      <th>phys_health_interview</th>\n",
       "      <th>mental_vs_physical</th>\n",
       "      <th>obs_consequence</th>\n",
       "      <th>comments</th>\n",
       "    </tr>\n",
       "  </thead>\n",
       "  <tbody>\n",
       "    <tr>\n",
       "      <th>0</th>\n",
       "      <td>2014-08-27 11:29:31</td>\n",
       "      <td>37</td>\n",
       "      <td>Female</td>\n",
       "      <td>United States</td>\n",
       "      <td>IL</td>\n",
       "      <td>NaN</td>\n",
       "      <td>No</td>\n",
       "      <td>Yes</td>\n",
       "      <td>Often</td>\n",
       "      <td>6-25</td>\n",
       "      <td>...</td>\n",
       "      <td>Somewhat easy</td>\n",
       "      <td>No</td>\n",
       "      <td>No</td>\n",
       "      <td>Some of them</td>\n",
       "      <td>Yes</td>\n",
       "      <td>No</td>\n",
       "      <td>Maybe</td>\n",
       "      <td>Yes</td>\n",
       "      <td>No</td>\n",
       "      <td>NaN</td>\n",
       "    </tr>\n",
       "    <tr>\n",
       "      <th>1</th>\n",
       "      <td>2014-08-27 11:29:37</td>\n",
       "      <td>44</td>\n",
       "      <td>M</td>\n",
       "      <td>United States</td>\n",
       "      <td>IN</td>\n",
       "      <td>NaN</td>\n",
       "      <td>No</td>\n",
       "      <td>No</td>\n",
       "      <td>Rarely</td>\n",
       "      <td>More than 1000</td>\n",
       "      <td>...</td>\n",
       "      <td>Don't know</td>\n",
       "      <td>Maybe</td>\n",
       "      <td>No</td>\n",
       "      <td>No</td>\n",
       "      <td>No</td>\n",
       "      <td>No</td>\n",
       "      <td>No</td>\n",
       "      <td>Don't know</td>\n",
       "      <td>No</td>\n",
       "      <td>NaN</td>\n",
       "    </tr>\n",
       "    <tr>\n",
       "      <th>2</th>\n",
       "      <td>2014-08-27 11:29:44</td>\n",
       "      <td>32</td>\n",
       "      <td>Male</td>\n",
       "      <td>Canada</td>\n",
       "      <td>NaN</td>\n",
       "      <td>NaN</td>\n",
       "      <td>No</td>\n",
       "      <td>No</td>\n",
       "      <td>Rarely</td>\n",
       "      <td>6-25</td>\n",
       "      <td>...</td>\n",
       "      <td>Somewhat difficult</td>\n",
       "      <td>No</td>\n",
       "      <td>No</td>\n",
       "      <td>Yes</td>\n",
       "      <td>Yes</td>\n",
       "      <td>Yes</td>\n",
       "      <td>Yes</td>\n",
       "      <td>No</td>\n",
       "      <td>No</td>\n",
       "      <td>NaN</td>\n",
       "    </tr>\n",
       "    <tr>\n",
       "      <th>3</th>\n",
       "      <td>2014-08-27 11:29:46</td>\n",
       "      <td>31</td>\n",
       "      <td>Male</td>\n",
       "      <td>United Kingdom</td>\n",
       "      <td>NaN</td>\n",
       "      <td>NaN</td>\n",
       "      <td>Yes</td>\n",
       "      <td>Yes</td>\n",
       "      <td>Often</td>\n",
       "      <td>26-100</td>\n",
       "      <td>...</td>\n",
       "      <td>Somewhat difficult</td>\n",
       "      <td>Yes</td>\n",
       "      <td>Yes</td>\n",
       "      <td>Some of them</td>\n",
       "      <td>No</td>\n",
       "      <td>Maybe</td>\n",
       "      <td>Maybe</td>\n",
       "      <td>No</td>\n",
       "      <td>Yes</td>\n",
       "      <td>NaN</td>\n",
       "    </tr>\n",
       "    <tr>\n",
       "      <th>4</th>\n",
       "      <td>2014-08-27 11:30:22</td>\n",
       "      <td>31</td>\n",
       "      <td>Male</td>\n",
       "      <td>United States</td>\n",
       "      <td>TX</td>\n",
       "      <td>NaN</td>\n",
       "      <td>No</td>\n",
       "      <td>No</td>\n",
       "      <td>Never</td>\n",
       "      <td>100-500</td>\n",
       "      <td>...</td>\n",
       "      <td>Don't know</td>\n",
       "      <td>No</td>\n",
       "      <td>No</td>\n",
       "      <td>Some of them</td>\n",
       "      <td>Yes</td>\n",
       "      <td>Yes</td>\n",
       "      <td>Yes</td>\n",
       "      <td>Don't know</td>\n",
       "      <td>No</td>\n",
       "      <td>NaN</td>\n",
       "    </tr>\n",
       "  </tbody>\n",
       "</table>\n",
       "<p>5 rows × 27 columns</p>\n",
       "</div>"
      ],
      "text/plain": [
       "             Timestamp  Age  Gender         Country state self_employed  \\\n",
       "0  2014-08-27 11:29:31   37  Female   United States    IL           NaN   \n",
       "1  2014-08-27 11:29:37   44       M   United States    IN           NaN   \n",
       "2  2014-08-27 11:29:44   32    Male          Canada   NaN           NaN   \n",
       "3  2014-08-27 11:29:46   31    Male  United Kingdom   NaN           NaN   \n",
       "4  2014-08-27 11:30:22   31    Male   United States    TX           NaN   \n",
       "\n",
       "  family_history treatment work_interfere    no_employees  ...  \\\n",
       "0             No       Yes          Often            6-25  ...   \n",
       "1             No        No         Rarely  More than 1000  ...   \n",
       "2             No        No         Rarely            6-25  ...   \n",
       "3            Yes       Yes          Often          26-100  ...   \n",
       "4             No        No          Never         100-500  ...   \n",
       "\n",
       "                leave mental_health_consequence phys_health_consequence  \\\n",
       "0       Somewhat easy                        No                      No   \n",
       "1          Don't know                     Maybe                      No   \n",
       "2  Somewhat difficult                        No                      No   \n",
       "3  Somewhat difficult                       Yes                     Yes   \n",
       "4          Don't know                        No                      No   \n",
       "\n",
       "      coworkers supervisor mental_health_interview phys_health_interview  \\\n",
       "0  Some of them        Yes                      No                 Maybe   \n",
       "1            No         No                      No                    No   \n",
       "2           Yes        Yes                     Yes                   Yes   \n",
       "3  Some of them         No                   Maybe                 Maybe   \n",
       "4  Some of them        Yes                     Yes                   Yes   \n",
       "\n",
       "  mental_vs_physical obs_consequence comments  \n",
       "0                Yes              No      NaN  \n",
       "1         Don't know              No      NaN  \n",
       "2                 No              No      NaN  \n",
       "3                 No             Yes      NaN  \n",
       "4         Don't know              No      NaN  \n",
       "\n",
       "[5 rows x 27 columns]"
      ]
     },
     "execution_count": 2,
     "metadata": {},
     "output_type": "execute_result"
    }
   ],
   "source": [
    "data = pd.read_csv('survey.csv')\n",
    "data.head()"
   ]
  },
  {
   "cell_type": "code",
   "execution_count": 3,
   "metadata": {},
   "outputs": [
    {
     "name": "stdout",
     "output_type": "stream",
     "text": [
      "<class 'pandas.core.frame.DataFrame'>\n",
      "RangeIndex: 1259 entries, 0 to 1258\n",
      "Data columns (total 27 columns):\n",
      " #   Column                     Non-Null Count  Dtype \n",
      "---  ------                     --------------  ----- \n",
      " 0   Timestamp                  1259 non-null   object\n",
      " 1   Age                        1259 non-null   int64 \n",
      " 2   Gender                     1259 non-null   object\n",
      " 3   Country                    1259 non-null   object\n",
      " 4   state                      744 non-null    object\n",
      " 5   self_employed              1241 non-null   object\n",
      " 6   family_history             1259 non-null   object\n",
      " 7   treatment                  1259 non-null   object\n",
      " 8   work_interfere             995 non-null    object\n",
      " 9   no_employees               1259 non-null   object\n",
      " 10  remote_work                1259 non-null   object\n",
      " 11  tech_company               1259 non-null   object\n",
      " 12  benefits                   1259 non-null   object\n",
      " 13  care_options               1259 non-null   object\n",
      " 14  wellness_program           1259 non-null   object\n",
      " 15  seek_help                  1259 non-null   object\n",
      " 16  anonymity                  1259 non-null   object\n",
      " 17  leave                      1259 non-null   object\n",
      " 18  mental_health_consequence  1259 non-null   object\n",
      " 19  phys_health_consequence    1259 non-null   object\n",
      " 20  coworkers                  1259 non-null   object\n",
      " 21  supervisor                 1259 non-null   object\n",
      " 22  mental_health_interview    1259 non-null   object\n",
      " 23  phys_health_interview      1259 non-null   object\n",
      " 24  mental_vs_physical         1259 non-null   object\n",
      " 25  obs_consequence            1259 non-null   object\n",
      " 26  comments                   164 non-null    object\n",
      "dtypes: int64(1), object(26)\n",
      "memory usage: 265.7+ KB\n"
     ]
    }
   ],
   "source": [
    "data.info()"
   ]
  },
  {
   "cell_type": "code",
   "execution_count": 4,
   "metadata": {},
   "outputs": [
    {
     "data": {
      "text/plain": [
       "(1259, 23)"
      ]
     },
     "execution_count": 4,
     "metadata": {},
     "output_type": "execute_result"
    }
   ],
   "source": [
    "data.drop(columns = ['Timestamp','Country','state','comments'],inplace = True)\n",
    "data.shape"
   ]
  },
  {
   "cell_type": "code",
   "execution_count": 5,
   "metadata": {},
   "outputs": [
    {
     "data": {
      "text/plain": [
       "{'Gender': 49,\n",
       " 'self_employed': 3,\n",
       " 'family_history': 2,\n",
       " 'treatment': 2,\n",
       " 'work_interfere': 5,\n",
       " 'no_employees': 6,\n",
       " 'remote_work': 2,\n",
       " 'tech_company': 2,\n",
       " 'benefits': 3,\n",
       " 'care_options': 3,\n",
       " 'wellness_program': 3,\n",
       " 'seek_help': 3,\n",
       " 'anonymity': 3,\n",
       " 'leave': 5,\n",
       " 'mental_health_consequence': 3,\n",
       " 'phys_health_consequence': 3,\n",
       " 'coworkers': 3,\n",
       " 'supervisor': 3,\n",
       " 'mental_health_interview': 3,\n",
       " 'phys_health_interview': 3,\n",
       " 'mental_vs_physical': 3,\n",
       " 'obs_consequence': 2}"
      ]
     },
     "execution_count": 5,
     "metadata": {},
     "output_type": "execute_result"
    }
   ],
   "source": [
    "{column: len(data[column].unique()) for column in data.select_dtypes('object').columns}"
   ]
  },
  {
   "cell_type": "code",
   "execution_count": 6,
   "metadata": {},
   "outputs": [
    {
     "data": {
      "text/plain": [
       "{'Gender': array(['Female', 'M', 'Male', 'male', 'female', 'm', 'Male-ish', 'maile',\n",
       "        'Trans-female', 'Cis Female', 'F', 'something kinda male?',\n",
       "        'Cis Male', 'Woman', 'f', 'Mal', 'Male (CIS)', 'queer/she/they',\n",
       "        'non-binary', 'Femake', 'woman', 'Make', 'Nah', 'All', 'Enby',\n",
       "        'fluid', 'Genderqueer', 'Female ', 'Androgyne', 'Agender',\n",
       "        'cis-female/femme', 'Guy (-ish) ^_^', 'male leaning androgynous',\n",
       "        'Male ', 'Man', 'Trans woman', 'msle', 'Neuter', 'Female (trans)',\n",
       "        'queer', 'Female (cis)', 'Mail', 'cis male', 'A little about you',\n",
       "        'Malr', 'p', 'femail', 'Cis Man',\n",
       "        'ostensibly male, unsure what that really means'], dtype=object),\n",
       " 'self_employed': array([nan, 'Yes', 'No'], dtype=object),\n",
       " 'family_history': array(['No', 'Yes'], dtype=object),\n",
       " 'treatment': array(['Yes', 'No'], dtype=object),\n",
       " 'work_interfere': array(['Often', 'Rarely', 'Never', 'Sometimes', nan], dtype=object),\n",
       " 'no_employees': array(['6-25', 'More than 1000', '26-100', '100-500', '1-5', '500-1000'],\n",
       "       dtype=object),\n",
       " 'remote_work': array(['No', 'Yes'], dtype=object),\n",
       " 'tech_company': array(['Yes', 'No'], dtype=object),\n",
       " 'benefits': array(['Yes', \"Don't know\", 'No'], dtype=object),\n",
       " 'care_options': array(['Not sure', 'No', 'Yes'], dtype=object),\n",
       " 'wellness_program': array(['No', \"Don't know\", 'Yes'], dtype=object),\n",
       " 'seek_help': array(['Yes', \"Don't know\", 'No'], dtype=object),\n",
       " 'anonymity': array(['Yes', \"Don't know\", 'No'], dtype=object),\n",
       " 'leave': array(['Somewhat easy', \"Don't know\", 'Somewhat difficult',\n",
       "        'Very difficult', 'Very easy'], dtype=object),\n",
       " 'mental_health_consequence': array(['No', 'Maybe', 'Yes'], dtype=object),\n",
       " 'phys_health_consequence': array(['No', 'Yes', 'Maybe'], dtype=object),\n",
       " 'coworkers': array(['Some of them', 'No', 'Yes'], dtype=object),\n",
       " 'supervisor': array(['Yes', 'No', 'Some of them'], dtype=object),\n",
       " 'mental_health_interview': array(['No', 'Yes', 'Maybe'], dtype=object),\n",
       " 'phys_health_interview': array(['Maybe', 'No', 'Yes'], dtype=object),\n",
       " 'mental_vs_physical': array(['Yes', \"Don't know\", 'No'], dtype=object),\n",
       " 'obs_consequence': array(['No', 'Yes'], dtype=object)}"
      ]
     },
     "execution_count": 6,
     "metadata": {},
     "output_type": "execute_result"
    }
   ],
   "source": [
    "{column: data[column].unique() for column in data.select_dtypes('object').columns}"
   ]
  },
  {
   "cell_type": "code",
   "execution_count": 7,
   "metadata": {},
   "outputs": [
    {
     "data": {
      "text/plain": [
       "0    Sometimes\n",
       "dtype: object"
      ]
     },
     "execution_count": 7,
     "metadata": {},
     "output_type": "execute_result"
    }
   ],
   "source": [
    "data['work_interfere'].mode()"
   ]
  },
  {
   "cell_type": "code",
   "execution_count": 8,
   "metadata": {},
   "outputs": [],
   "source": [
    "data['work_interfere'].fillna(value ='Sometimes',inplace = True)"
   ]
  },
  {
   "cell_type": "code",
   "execution_count": 9,
   "metadata": {},
   "outputs": [
    {
     "data": {
      "text/plain": [
       "Age                           0\n",
       "Gender                        0\n",
       "self_employed                18\n",
       "family_history                0\n",
       "treatment                     0\n",
       "work_interfere                0\n",
       "no_employees                  0\n",
       "remote_work                   0\n",
       "tech_company                  0\n",
       "benefits                      0\n",
       "care_options                  0\n",
       "wellness_program              0\n",
       "seek_help                     0\n",
       "anonymity                     0\n",
       "leave                         0\n",
       "mental_health_consequence     0\n",
       "phys_health_consequence       0\n",
       "coworkers                     0\n",
       "supervisor                    0\n",
       "mental_health_interview       0\n",
       "phys_health_interview         0\n",
       "mental_vs_physical            0\n",
       "obs_consequence               0\n",
       "dtype: int64"
      ]
     },
     "execution_count": 9,
     "metadata": {},
     "output_type": "execute_result"
    }
   ],
   "source": [
    "data.isnull().sum()"
   ]
  },
  {
   "cell_type": "code",
   "execution_count": 10,
   "metadata": {},
   "outputs": [],
   "source": [
    "data['self_employed'].fillna(value = data['self_employed'].mode,inplace = True)"
   ]
  },
  {
   "cell_type": "code",
   "execution_count": 11,
   "metadata": {},
   "outputs": [
    {
     "data": {
      "text/plain": [
       "Age                          0\n",
       "Gender                       0\n",
       "self_employed                0\n",
       "family_history               0\n",
       "treatment                    0\n",
       "work_interfere               0\n",
       "no_employees                 0\n",
       "remote_work                  0\n",
       "tech_company                 0\n",
       "benefits                     0\n",
       "care_options                 0\n",
       "wellness_program             0\n",
       "seek_help                    0\n",
       "anonymity                    0\n",
       "leave                        0\n",
       "mental_health_consequence    0\n",
       "phys_health_consequence      0\n",
       "coworkers                    0\n",
       "supervisor                   0\n",
       "mental_health_interview      0\n",
       "phys_health_interview        0\n",
       "mental_vs_physical           0\n",
       "obs_consequence              0\n",
       "dtype: int64"
      ]
     },
     "execution_count": 11,
     "metadata": {},
     "output_type": "execute_result"
    }
   ],
   "source": [
    "data.isnull().sum()"
   ]
  },
  {
   "cell_type": "code",
   "execution_count": 12,
   "metadata": {},
   "outputs": [],
   "source": [
    "#Dealing with the gender column\n",
    "for i in data.select_dtypes('object').columns:\n",
    "    data[i] = data[i].str.lower()\n",
    "\n",
    "males = [\"male\", \"m\", \"male-ish\", \"maile\", \"mal\", \"male (cis)\", \"make\", \"male \", \"man\",\"msle\", \"mail\",\n",
    "        \"malr\",\"cis man\", \"Cis Male\", \"cis male\"]\n",
    "trans = [\"trans-female\", \"something kinda male?\", \"queer/she/they\", \"non-binary\",\"nah\", \"all\", \"enby\", \"fluid\", \n",
    "          \"genderqueer\", \"androgyne\", \"agender\", \"male leaning androgynous\", \"guy (-ish) ^_^\", \"trans woman\", \n",
    "          \"neuter\", \"female (trans)\", \"queer\", \"ostensibly male, unsure what that really means\"]\n",
    "females = [\"cis female\", \"f\", \"female\", \"woman\",  \"femake\", \"female \",\"cis-female/femme\", \"female (cis)\", \"femail\"]\n",
    "for i in data.index:\n",
    "    if data.Gender[i] in males:\n",
    "        data.at[i, 'Gender']='male'\n",
    "    elif data.Gender[i] in females:\n",
    "        data.at[i, 'Gender']='female'\n",
    "    else:\n",
    "        data.at[i, 'Gender']='others'\n",
    "\n",
    "\n"
   ]
  },
  {
   "cell_type": "code",
   "execution_count": 13,
   "metadata": {},
   "outputs": [
    {
     "data": {
      "text/plain": [
       "<AxesSubplot:xlabel='treatment', ylabel='count'>"
      ]
     },
     "execution_count": 13,
     "metadata": {},
     "output_type": "execute_result"
    },
    {
     "data": {
      "image/png": "[encoded data removed]",
      "text/plain": [
       "<Figure size 432x288 with 1 Axes>"
      ]
     },
     "metadata": {
      "needs_background": "light"
     },
     "output_type": "display_data"
    }
   ],
   "source": [
    "#Checking whether the target class is imbalanced\n",
    "sns.countplot(x = 'treatment',data = data)"
   ]
  },
  {
   "cell_type": "code",
   "execution_count": 14,
   "metadata": {},
   "outputs": [
    {
     "data": {
      "text/plain": [
       "<AxesSubplot:xlabel='Age'>"
      ]
     },
     "execution_count": 14,
     "metadata": {},
     "output_type": "execute_result"
    },
    {
     "data": {
      "image/png": "[encoded data removed]",
      "text/plain": [
       "<Figure size 432x288 with 1 Axes>"
      ]
     },
     "metadata": {
      "needs_background": "light"
     },
     "output_type": "display_data"
    }
   ],
   "source": [
    "#Checking for outliers in age column\n",
    "sns.boxplot(x = data['Age'])\n"
   ]
  },
  {
   "cell_type": "code",
   "execution_count": 15,
   "metadata": {},
   "outputs": [
    {
     "data": {
      "text/plain": [
       "array([         37,          44,          32,          31,          33,\n",
       "                35,          39,          42,          23,          29,\n",
       "                36,          27,          46,          41,          34,\n",
       "                30,          40,          38,          50,          24,\n",
       "                18,          28,          26,          22,          19,\n",
       "                25,          45,          21,         -29,          43,\n",
       "                56,          60,          54,         329,          55,\n",
       "       99999999999,          48,          20,          57,          58,\n",
       "                47,          62,          51,          65,          49,\n",
       "             -1726,           5,          53,          61,           8,\n",
       "                11,          -1,          72])"
      ]
     },
     "execution_count": 15,
     "metadata": {},
     "output_type": "execute_result"
    }
   ],
   "source": [
    "data['Age'].unique()"
   ]
  },
  {
   "cell_type": "code",
   "execution_count": 16,
   "metadata": {},
   "outputs": [
    {
     "data": {
      "text/plain": [
       "<AxesSubplot:xlabel='Age'>"
      ]
     },
     "execution_count": 16,
     "metadata": {},
     "output_type": "execute_result"
    },
    {
     "data": {
      "image/png": "[encoded data removed]",
      "text/plain": [
       "<Figure size 432x288 with 1 Axes>"
      ]
     },
     "metadata": {
      "needs_background": "light"
     },
     "output_type": "display_data"
    }
   ],
   "source": [
    "data.drop(data[data['Age'] < 0].index, inplace = True) \n",
    "data.drop(data[data['Age'] > 100].index, inplace = True)\n",
    "sns.boxplot(x = data['Age'])"
   ]
  },
  {
   "cell_type": "code",
   "execution_count": 17,
   "metadata": {},
   "outputs": [
    {
     "data": {
      "text/plain": [
       "(1254, 23)"
      ]
     },
     "execution_count": 17,
     "metadata": {},
     "output_type": "execute_result"
    }
   ],
   "source": [
    "data.shape\n"
   ]
  },
  {
   "cell_type": "code",
   "execution_count": 18,
   "metadata": {},
   "outputs": [
    {
     "name": "stdout",
     "output_type": "stream",
     "text": [
      "13.5\n",
      "31.0\n",
      "49.5\n"
     ]
    }
   ],
   "source": [
    "\n",
    "Q1 = data['Age'].quantile(0.25)\n",
    "Q2 = data['Age'].quantile(0.5)\n",
    "Q3 = data['Age'].quantile(0.75)\n",
    "IQR = Q3-Q1\n",
    "lower_bound = Q1 - 1.5 * IQR\n",
    "upper_bound = Q3 + 1.5 * IQR\n",
    "print(lower_bound)\n",
    "print(Q2)\n",
    "print(upper_bound)\n",
    "\n"
   ]
  },
  {
   "cell_type": "code",
   "execution_count": 19,
   "metadata": {},
   "outputs": [
    {
     "data": {
      "text/plain": [
       "<AxesSubplot:xlabel='Age'>"
      ]
     },
     "execution_count": 19,
     "metadata": {},
     "output_type": "execute_result"
    },
    {
     "data": {
      "image/png": "[encoded data removed]",
      "text/plain": [
       "<Figure size 432x288 with 1 Axes>"
      ]
     },
     "metadata": {
      "needs_background": "light"
     },
     "output_type": "display_data"
    }
   ],
   "source": [
    "sns.violinplot(x = data['Age'])"
   ]
  },
  {
   "cell_type": "code",
   "execution_count": 20,
   "metadata": {},
   "outputs": [
    {
     "data": {
      "text/plain": [
       "<matplotlib.collections.PathCollection at 0x7f38926ab820>"
      ]
     },
     "execution_count": 20,
     "metadata": {},
     "output_type": "execute_result"
    },
    {
     "data": {
      "image/png": "[encoded data removed]",
      "text/plain": [
       "<Figure size 432x288 with 1 Axes>"
      ]
     },
     "metadata": {
      "needs_background": "light"
     },
     "output_type": "display_data"
    }
   ],
   "source": [
    "#Replacing outliers with the median value\n",
    "data['Age'] = np.where((data['Age'] > upper_bound) | (data['Age']< lower_bound), data['Age'].median(), data['Age'])\n",
    "plt.scatter(x = data ['Gender'],y = data ['Age'])"
   ]
  },
  {
   "cell_type": "code",
   "execution_count": 21,
   "metadata": {},
   "outputs": [
    {
     "data": {
      "text/plain": [
       "Index(['Gender', 'self_employed', 'family_history', 'treatment',\n",
       "       'work_interfere', 'no_employees', 'remote_work', 'tech_company',\n",
       "       'benefits', 'care_options', 'wellness_program', 'seek_help',\n",
       "       'anonymity', 'leave', 'mental_health_consequence',\n",
       "       'phys_health_consequence', 'coworkers', 'supervisor',\n",
       "       'mental_health_interview', 'phys_health_interview',\n",
       "       'mental_vs_physical', 'obs_consequence'],\n",
       "      dtype='object')"
      ]
     },
     "execution_count": 21,
     "metadata": {},
     "output_type": "execute_result"
    }
   ],
   "source": [
    "data.select_dtypes('object').columns"
   ]
  },
  {
   "cell_type": "code",
   "execution_count": 22,
   "metadata": {},
   "outputs": [
    {
     "data": {
      "text/html": [
       "<div>\n",
       "<style scoped>\n",
       "    .dataframe tbody tr th:only-of-type {\n",
       "        vertical-align: middle;\n",
       "    }\n",
       "\n",
       "    .dataframe tbody tr th {\n",
       "        vertical-align: top;\n",
       "    }\n",
       "\n",
       "    .dataframe thead th {\n",
       "        text-align: right;\n",
       "    }\n",
       "</style>\n",
       "<table border=\"1\" class=\"dataframe\">\n",
       "  <thead>\n",
       "    <tr style=\"text-align: right;\">\n",
       "      <th>treatment</th>\n",
       "      <th>no</th>\n",
       "      <th>yes</th>\n",
       "    </tr>\n",
       "    <tr>\n",
       "      <th>Gender</th>\n",
       "      <th></th>\n",
       "      <th></th>\n",
       "    </tr>\n",
       "  </thead>\n",
       "  <tbody>\n",
       "    <tr>\n",
       "      <th>female</th>\n",
       "      <td>77</td>\n",
       "      <td>170</td>\n",
       "    </tr>\n",
       "    <tr>\n",
       "      <th>male</th>\n",
       "      <td>540</td>\n",
       "      <td>448</td>\n",
       "    </tr>\n",
       "    <tr>\n",
       "      <th>others</th>\n",
       "      <td>4</td>\n",
       "      <td>15</td>\n",
       "    </tr>\n",
       "  </tbody>\n",
       "</table>\n",
       "</div>"
      ],
      "text/plain": [
       "treatment   no  yes\n",
       "Gender             \n",
       "female      77  170\n",
       "male       540  448\n",
       "others       4   15"
      ]
     },
     "execution_count": 22,
     "metadata": {},
     "output_type": "execute_result"
    }
   ],
   "source": [
    "df= pd.crosstab(index = data['Gender'],columns = data['treatment'])\n",
    "df"
   ]
  },
  {
   "cell_type": "code",
   "execution_count": 23,
   "metadata": {},
   "outputs": [
    {
     "name": "stdout",
     "output_type": "stream",
     "text": [
      "\n",
      " chi_square test for Gender\n",
      "chi2 value :  49.84114857141851\n",
      "p_value :  1.503599254992492e-11\n",
      "Degrees of freedom :  2\n",
      "\n",
      " chi_square test for self_employed\n",
      "chi2 value :  0.24668994919631185\n",
      "p_value :  0.6194154902858475\n",
      "Degrees of freedom :  1\n",
      "\n",
      " chi_square test for family_history\n",
      "chi2 value :  177.69583537275963\n",
      "p_value :  1.5435847916844047e-40\n",
      "Degrees of freedom :  1\n",
      "\n",
      " chi_square test for work_interfere\n",
      "chi2 value :  208.48942243271537\n",
      "p_value :  6.175149766976444e-45\n",
      "Degrees of freedom :  3\n",
      "\n",
      " chi_square test for no_employees\n",
      "chi2 value :  8.641176655867119\n",
      "p_value :  0.12426116460698207\n",
      "Degrees of freedom :  5\n",
      "\n",
      " chi_square test for remote_work\n",
      "chi2 value :  0.7947356042818913\n",
      "p_value :  0.37267201299746844\n",
      "Degrees of freedom :  1\n",
      "\n",
      " chi_square test for tech_company\n",
      "chi2 value :  1.1883564135656606\n",
      "p_value :  0.27566133799267967\n",
      "Degrees of freedom :  1\n",
      "\n",
      " chi_square test for benefits\n",
      "chi2 value :  64.71668484237101\n",
      "p_value :  8.85014615634913e-15\n",
      "Degrees of freedom :  2\n",
      "\n",
      " chi_square test for care_options\n",
      "chi2 value :  93.02850049735684\n",
      "p_value :  6.296769374645883e-21\n",
      "Degrees of freedom :  2\n",
      "\n",
      " chi_square test for wellness_program\n",
      "chi2 value :  10.995059787069815\n",
      "p_value :  0.004096878676853976\n",
      "Degrees of freedom :  2\n",
      "\n",
      " chi_square test for seek_help\n",
      "chi2 value :  11.079819950619552\n",
      "p_value :  0.003926880338579538\n",
      "Degrees of freedom :  2\n",
      "\n",
      " chi_square test for anonymity\n",
      "chi2 value :  26.018231849714955\n",
      "p_value :  2.2398180460076747e-06\n",
      "Degrees of freedom :  2\n",
      "\n",
      " chi_square test for leave\n",
      "chi2 value :  28.925867559290662\n",
      "p_value :  8.093186778768821e-06\n",
      "Degrees of freedom :  4\n",
      "\n",
      " chi_square test for mental_health_consequence\n",
      "chi2 value :  20.990067913440335\n",
      "p_value :  2.7673536658011487e-05\n",
      "Degrees of freedom :  2\n",
      "\n",
      " chi_square test for phys_health_consequence\n",
      "chi2 value :  2.858312153407523\n",
      "p_value :  0.23951096586090007\n",
      "Degrees of freedom :  2\n",
      "\n",
      " chi_square test for coworkers\n",
      "chi2 value :  6.182781046637828\n",
      "p_value :  0.04543872684585103\n",
      "Degrees of freedom :  2\n",
      "\n",
      " chi_square test for supervisor\n",
      "chi2 value :  1.4998428004039712\n",
      "p_value :  0.4724036821158104\n",
      "Degrees of freedom :  2\n",
      "\n",
      " chi_square test for mental_health_interview\n",
      "chi2 value :  12.06483701064505\n",
      "p_value :  0.0023996833080300907\n",
      "Degrees of freedom :  2\n",
      "\n",
      " chi_square test for phys_health_interview\n",
      "chi2 value :  3.298949615932634\n",
      "p_value :  0.19215079819371225\n",
      "Degrees of freedom :  2\n",
      "\n",
      " chi_square test for mental_vs_physical\n",
      "chi2 value :  16.828167326929254\n",
      "p_value :  0.0002217225653037204\n",
      "Degrees of freedom :  2\n",
      "\n",
      " chi_square test for obs_consequence\n",
      "chi2 value :  29.077954460927117\n",
      "p_value :  6.952362762761171e-08\n",
      "Degrees of freedom :  1\n"
     ]
    }
   ],
   "source": [
    "#checking correlation between categorical variables and the target variable using chi_square test\n",
    "#The null hypothesis   : Treatment variable and categorical variables are independent\n",
    "#Alternate hypothesis : Treatment variable and categorical variables are dependent\n",
    "from scipy import stats\n",
    "for i in data.select_dtypes('object').columns:\n",
    "    if i != 'treatment':\n",
    "        df_chi = pd.crosstab(index = data[i],columns = data['treatment'])\n",
    "        (chi2,p,dof,_) = stats.chi2_contingency(df_chi.values)\n",
    "        print('\\n chi_square test for',i)\n",
    "        print('chi2 value : ',chi2)\n",
    "        print('p_value : ', p)\n",
    "        print('Degrees of freedom : ',dof)\n",
    "    "
   ]
  },
  {
   "cell_type": "code",
   "execution_count": 24,
   "metadata": {},
   "outputs": [],
   "source": [
    "cols_to_drop = ['self_employed','no_employees','remote_work','tech_company','supervisor','phys_health_interview','phys_health_consequence']\n",
    "data.drop(columns = cols_to_drop,inplace = True)"
   ]
  },
  {
   "cell_type": "code",
   "execution_count": 25,
   "metadata": {},
   "outputs": [
    {
     "data": {
      "text/plain": [
       "Text(0.5, 1.0, 'Cramer V Correlation between Variables')"
      ]
     },
     "execution_count": 25,
     "metadata": {},
     "output_type": "execute_result"
    },
    {
     "data": {
      "image/png": "[encoded data removed]",
      "text/plain": [
       "<Figure size 720x720 with 2 Axes>"
      ]
     },
     "metadata": {
      "needs_background": "light"
     },
     "output_type": "display_data"
    }
   ],
   "source": [
    "#Using cramer's v test to check for correlation between categorical variables\n",
    "import itertools\n",
    "def cramers_v(table):\n",
    "    (chi2,p,dof,_) = stats.chi2_contingency(table.values)\n",
    "    min_idx = min(len(table.index),len(table.columns))\n",
    "    s = min_idx - 1\n",
    "    result = np.sqrt(chi2/(data.shape[0] * s))\n",
    "    return result\n",
    "\n",
    "cols = list(data.select_dtypes('object').columns)\n",
    "corr_matrix = np.zeros((len(cols),len(cols)))\n",
    "\n",
    "for col1,col2 in itertools.combinations(cols,2):\n",
    "    idx1, idx2 = cols.index(col1), cols.index(col2)\n",
    "    corr_matrix[idx1, idx2] = cramers_v(pd.crosstab(data[col1], data[col2]))\n",
    "    corr_matrix[idx2, idx1] = corr_matrix[idx1, idx2]\n",
    "\n",
    "corr = pd.DataFrame(corr_matrix, index=cols, columns=cols)\n",
    "fig, ax = plt.subplots(figsize=(10, 10))\n",
    "ax = sns.heatmap(corr, annot=True, ax=ax)\n",
    "ax.set_title(\"Cramer V Correlation between Variables\")\n"
   ]
  },
  {
   "cell_type": "code",
   "execution_count": 26,
   "metadata": {},
   "outputs": [],
   "source": [
    "Target_variable = 'treatment'\n",
    "#binary_features = ['family_history','obs_consequence']\n",
    "ordinal_features = ['work_interfere','leave']\n",
    "nominal_features = ['Gender','family_history','benefits','care_options','wellness_program','seek_help','anonymity',\n",
    "                   'mental_health_consequence','coworkers','mental_health_interview','mental_vs_physical','obs_consequence']"
   ]
  },
  {
   "cell_type": "code",
   "execution_count": 61,
   "metadata": {},
   "outputs": [],
   "source": [
    "#converting the target variable into ones and zeros\n",
    "data['treatment'].replace(to_replace = ['yes','no'],value = [1,0],inplace = True)\n"
   ]
  },
  {
   "cell_type": "code",
   "execution_count": 52,
   "metadata": {},
   "outputs": [],
   "source": [
    "from sklearn.preprocessing import OneHotEncoder\n",
    "from sklearn.preprocessing import OrdinalEncoder\n",
    "from sklearn.model_selection import train_test_split\n",
    "from sklearn.compose import ColumnTransformer\n",
    "from sklearn.pipeline import Pipeline\n",
    "from sklearn.ensemble import RandomForestClassifier\n",
    "from sklearn.tree import DecisionTreeClassifier\n",
    "from sklearn.linear_model import LogisticRegression\n",
    "from sklearn.naive_bayes import GaussianNB"
   ]
  },
  {
   "cell_type": "code",
   "execution_count": 53,
   "metadata": {},
   "outputs": [],
   "source": [
    "X = data.drop(columns = 'treatment')\n",
    "y = data['treatment']\n",
    "X_train,x_test,Y_train,y_test = train_test_split(X,y,test_size = 0.3, random_state = 10)"
   ]
  },
  {
   "cell_type": "code",
   "execution_count": 56,
   "metadata": {},
   "outputs": [],
   "source": [
    "ct = ColumnTransformer([('enc',OrdinalEncoder(),ordinal_features),\n",
    "                                      ('ohe',OneHotEncoder(),nominal_features)],remainder = 'passthrough')"
   ]
  },
  {
   "cell_type": "code",
   "execution_count": null,
   "metadata": {},
   "outputs": [],
   "source": []
  },
  {
   "cell_type": "code",
   "execution_count": 57,
   "metadata": {},
   "outputs": [],
   "source": [
    "pipeline_rfc = Pipeline([('transformer',ct),('rfc',RandomForestClassifier())])\n",
    "pipeline_dtc = Pipeline([('transformer',ct),('dtc',DecisionTreeClassifier())])\n",
    "pipeline_lr = Pipeline([('transformer',ct),('lr',LogisticRegression())])\n",
    "pipeline_nb = Pipeline([('transformer',ct),('lr',GaussianNB())])"
   ]
  },
  {
   "cell_type": "code",
   "execution_count": 58,
   "metadata": {},
   "outputs": [],
   "source": [
    "pipelines = [pipeline_rfc,pipeline_dtc,pipeline_lr,pipeline_nb]\n",
    "\n",
    "# Fit the pipelines\n",
    "for pipe in pipelines:\n",
    "    pipe.fit(X_train, Y_train)"
   ]
  },
  {
   "cell_type": "code",
   "execution_count": 60,
   "metadata": {},
   "outputs": [
    {
     "name": "stdout",
     "output_type": "stream",
     "text": [
      "RandomForest Test Accuracy: 0.7188328912466844\n",
      "Decision Tree Test Accuracy: 0.6419098143236074\n",
      "LogisticRegression Test Accuracy: 0.7002652519893899\n",
      "Naive_bayes Test Accuracy: 0.6843501326259946\n"
     ]
    }
   ],
   "source": [
    "# Dictionary of pipelines and classifier types for ease of reference\n",
    "pipe_dict = {0: 'RandomForest', 1: 'Decision Tree', 2: 'LogisticRegression',3:'Naive_bayes'}\n",
    "for i,model in enumerate(pipelines):\n",
    "    print(\"{} Test Accuracy: {}\".format(pipe_dict[i],model.score(x_test,y_test)))"
   ]
  },
  {
   "cell_type": "code",
   "execution_count": null,
   "metadata": {},
   "outputs": [],
   "source": []
  }
 ],
 "metadata": {
  "kernelspec": {
   "display_name": "Python 3",
   "language": "python",
   "name": "python3"
  },
  "language_info": {
   "codemirror_mode": {
    "name": "ipython",
    "version": 3
   },
   "file_extension": ".py",
   "mimetype": "text/x-python",
   "name": "python",
   "nbconvert_exporter": "python",
   "pygments_lexer": "ipython3",
   "version": "3.8.6"
  }
 },
 "nbformat": 4,
 "nbformat_minor": 4
}
